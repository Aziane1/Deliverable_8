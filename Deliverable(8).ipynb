{
  "nbformat": 4,
  "nbformat_minor": 0,
  "metadata": {
    "colab": {
      "provenance": []
    },
    "kernelspec": {
      "name": "python3",
      "display_name": "Python 3"
    },
    "language_info": {
      "name": "python"
    }
  },
  "cells": [
    {
      "cell_type": "code",
      "execution_count": 53,
      "metadata": {
        "id": "JQnIrjIhYj4b"
      },
      "outputs": [],
      "source": [
        "import numpy as np "
      ]
    },
    {
      "cell_type": "code",
      "source": [
        "def random_list(size): #the long way to make the list\n",
        "    list = []\n",
        "    for i in range(size):\n",
        "      list.append(np.random.randint(10,50))\n",
        "    return list\n",
        "\n",
        "def sum_random (list): #the long way to find the sum\n",
        "    sum = 0\n",
        "    for i in range(len(list)):\n",
        "      sum = sum + list[i]\n",
        "    return sum"
      ],
      "metadata": {
        "id": "_OH0y0t7hi6N"
      },
      "execution_count": 54,
      "outputs": []
    },
    {
      "cell_type": "code",
      "source": [
        "n = int(input(\"Enter an integer: \"))"
      ],
      "metadata": {
        "colab": {
          "base_uri": "https://localhost:8080/"
        },
        "id": "-YuS0VZetJ31",
        "outputId": "0ae4358d-5437-4895-ce19-85bd4755054b"
      },
      "execution_count": 59,
      "outputs": [
        {
          "name": "stdout",
          "output_type": "stream",
          "text": [
            "Enter an integer: 5\n"
          ]
        }
      ]
    },
    {
      "cell_type": "code",
      "source": [
        "while True: \n",
        "  if size < 5 or size > 15:\n",
        "    size = int(input(\"Enter a positive integer: \"))\n",
        "  else:\n",
        "    break"
      ],
      "metadata": {
        "id": "zVnhW1TwvVfU"
      },
      "execution_count": 60,
      "outputs": []
    },
    {
      "cell_type": "code",
      "source": [
        "MyList = random_list(n)\n",
        "MyList"
      ],
      "metadata": {
        "colab": {
          "base_uri": "https://localhost:8080/"
        },
        "id": "EVeoEKNtvtD9",
        "outputId": "428ee42e-7267-4033-feca-dfae244f7ab1"
      },
      "execution_count": 61,
      "outputs": [
        {
          "output_type": "execute_result",
          "data": {
            "text/plain": [
              "[33, 42, 48, 17, 26]"
            ]
          },
          "metadata": {},
          "execution_count": 61
        }
      ]
    },
    {
      "cell_type": "code",
      "source": [
        "MySum = sum_random(MyList)\n",
        "MySum"
      ],
      "metadata": {
        "colab": {
          "base_uri": "https://localhost:8080/"
        },
        "id": "KOWVRNpTv2lc",
        "outputId": "f5dbc9dd-cc63-4fcc-d06d-7c3dd5bce341"
      },
      "execution_count": 50,
      "outputs": [
        {
          "output_type": "execute_result",
          "data": {
            "text/plain": [
              "118"
            ]
          },
          "metadata": {},
          "execution_count": 50
        }
      ]
    },
    {
      "cell_type": "code",
      "source": [
        "MyList2 = np.random.randint(10,50,n)\n",
        "MyList2"
      ],
      "metadata": {
        "colab": {
          "base_uri": "https://localhost:8080/"
        },
        "id": "bf19k5J2xJym",
        "outputId": "ccdf5ee6-dbe9-4450-87c3-6d844ac8dd90"
      },
      "execution_count": 51,
      "outputs": [
        {
          "output_type": "execute_result",
          "data": {
            "text/plain": [
              "array([44, 34, 22, 20, 25])"
            ]
          },
          "metadata": {},
          "execution_count": 51
        }
      ]
    },
    {
      "cell_type": "code",
      "source": [
        "MySum2 = sum(MyList2)\n",
        "MySum2"
      ],
      "metadata": {
        "colab": {
          "base_uri": "https://localhost:8080/"
        },
        "id": "ks0UNzsXxSWv",
        "outputId": "4bd06656-deba-4389-fef0-60ec4f56aa33"
      },
      "execution_count": 52,
      "outputs": [
        {
          "output_type": "execute_result",
          "data": {
            "text/plain": [
              "145"
            ]
          },
          "metadata": {},
          "execution_count": 52
        }
      ]
    }
  ]
}